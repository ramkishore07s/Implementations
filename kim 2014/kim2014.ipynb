{
 "cells": [
  {
   "cell_type": "markdown",
   "metadata": {},
   "source": [
    "# Kim 2014"
   ]
  },
  {
   "cell_type": "markdown",
   "metadata": {},
   "source": [
    "## Data Processing"
   ]
  },
  {
   "cell_type": "code",
   "execution_count": 1,
   "metadata": {},
   "outputs": [],
   "source": [
    "import os\n",
    "import random\n",
    "import numpy as np\n",
    "import _pickle as pickle"
   ]
  },
  {
   "cell_type": "code",
   "execution_count": 15,
   "metadata": {},
   "outputs": [],
   "source": [
    "class GloveEmbeddings:\n",
    "    def __init__(self):\n",
    "        self.word2id = {}\n",
    "        self.vectors = []\n",
    "        self.words = []\n",
    "        self.dim = None\n",
    "        \n",
    "    def load_glove(self, filename):\n",
    "        id = 0\n",
    "        with open(filename) as file:\n",
    "            for line_ in file:\n",
    "                line = line_.split()\n",
    "                word = line[0]\n",
    "                self.words.append(word)\n",
    "                self.word2id[word] , id = id, id + 1\n",
    "                vect = np.array(line[1:]).astype(np.float)\n",
    "                self.vectors.append(vect)\n",
    "        self.vectors = np.array(self.vectors)\n",
    "        self.dim = self.vectors.shape[-1]\n",
    "        self.add_to_vocab('<unk>')\n",
    "    \n",
    "    def add_to_vocab(self, word):\n",
    "        word = word.lower()\n",
    "        self.words.append(word)\n",
    "        self.word2id[word] = len(self.words) - 1\n",
    "        self.vectors = np.append(self.vectors, np.random.random(self.dim))\n",
    "        \n",
    "    def convert_to_indices(self, lines):\n",
    "        indices = []\n",
    "        for line in lines:\n",
    "            indices.append([])\n",
    "            for word in line:\n",
    "                if word in self.word2id:\n",
    "                    id = self.word2id[word]\n",
    "                else:\n",
    "                    id = self.word2id['<unk>']\n",
    "                indices[-1].append(id)\n",
    "        return indices"
   ]
  },
  {
   "cell_type": "code",
   "execution_count": 16,
   "metadata": {},
   "outputs": [],
   "source": [
    "glove = GloveEmbeddings()\n",
    "glove.load_glove('~/meta/glove/glove.6B.100d.txt')"
   ]
  },
  {
   "cell_type": "code",
   "execution_count": 17,
   "metadata": {},
   "outputs": [],
   "source": [
    "def convert_to_indices(file, glove):\n",
    "    with open(file, 'rb') as f:\n",
    "        data = f.readlines()\n",
    "    data = [str(line).split(' ') for line in data]\n",
    "    return glove.convert_to_indices(data)"
   ]
  },
  {
   "cell_type": "code",
   "execution_count": 18,
   "metadata": {},
   "outputs": [],
   "source": [
    "pos_data = convert_to_indices('data/rt-polaritydata/rt-polarity.pos', glove)\n",
    "neg_data = convert_to_indices('data/rt-polaritydata/rt-polarity.neg', glove)"
   ]
  },
  {
   "cell_type": "markdown",
   "metadata": {},
   "source": [
    "## Neural Model"
   ]
  },
  {
   "cell_type": "code",
   "execution_count": 2,
   "metadata": {},
   "outputs": [],
   "source": [
    "import torch\n",
    "import torch.nn as nn\n",
    "import torch.optim as optim\n",
    "import torch.nn.functional as f"
   ]
  },
  {
   "cell_type": "code",
   "execution_count": 3,
   "metadata": {},
   "outputs": [],
   "source": [
    "torch.cuda.set_device(0)"
   ]
  },
  {
   "cell_type": "code",
   "execution_count": 186,
   "metadata": {},
   "outputs": [],
   "source": [
    "class KimCNN(nn.Module):\n",
    "    def __init__(self, #mode='singlechannel',\n",
    "                 embedding_weights=None, embedding_dim=(400001, 100), \n",
    "                 kernels=[3,4,5], out_channels=50):\n",
    "        super().__init__()\n",
    "        \n",
    "        self.embeddings = nn.Embedding(*embedding_dim)\n",
    "        if embedding_weights is not None: self.embeddings.load_state_dict({'weight': embedding_weights})\n",
    "        \n",
    "        self.convolutions = nn.ModuleList([nn.Conv2d(in_channels=1, \n",
    "                                                     out_channels=out_channels, \n",
    "                                                     kernel_size=(k, embedding_dim[1])\n",
    "                                                     ) for k in kernels])\n",
    "        self.fully_connected_layer = nn.Linear(len(kernels) * out_channels, 2)\n",
    "        \n",
    "    def forward(self, input, dropout=False):\n",
    "        embeddings = self.embeddings(input)\n",
    "        conv_output = [f.relu(conv(embeddings).squeeze(-1)) for conv in self.convolutions]  # (batch * out_channels * strides_taken)     \n",
    "        pooled_output = [f.max_pool1d(item, item.size(2)).squeeze(-1) for item in conv_output]  # (batch * out_channels)\n",
    "        sentence_embeddings = torch.stack(pooled_output, dim=-1).reshape(input.size(0), -1)\n",
    "        if dropout: sentence_embeddings = f.dropout(sentence_embeddings, p=0.5, inplace=True)\n",
    "        return f.softmax(self.fully_connected_layer(sentence_embeddings), dim=-1)"
   ]
  },
  {
   "cell_type": "code",
   "execution_count": 187,
   "metadata": {},
   "outputs": [
    {
     "data": {
      "text/plain": [
       "KimCNN(\n",
       "  (embeddings): Embedding(400001, 100)\n",
       "  (convolutions): ModuleList(\n",
       "    (0): Conv2d(1, 50, kernel_size=(3, 100), stride=(1, 1))\n",
       "    (1): Conv2d(1, 50, kernel_size=(4, 100), stride=(1, 1))\n",
       "    (2): Conv2d(1, 50, kernel_size=(5, 100), stride=(1, 1))\n",
       "  )\n",
       "  (fully_connected_layer): Linear(in_features=150, out_features=2, bias=True)\n",
       ")"
      ]
     },
     "execution_count": 187,
     "metadata": {},
     "output_type": "execute_result"
    }
   ],
   "source": [
    "kcnn = KimCNN()\n",
    "kcnn.cuda()"
   ]
  },
  {
   "cell_type": "code",
   "execution_count": 149,
   "metadata": {},
   "outputs": [],
   "source": [
    "dummy_input = np.random.randint(0, 400000, size=(10, 1, 10))"
   ]
  },
  {
   "cell_type": "code",
   "execution_count": 150,
   "metadata": {},
   "outputs": [
    {
     "data": {
      "text/plain": [
       "tensor([[0.4863, 0.5137],\n",
       "        [0.5586, 0.4414],\n",
       "        [0.4088, 0.5912],\n",
       "        [0.4137, 0.5863],\n",
       "        [0.5577, 0.4423],\n",
       "        [0.4202, 0.5798],\n",
       "        [0.5706, 0.4294],\n",
       "        [0.4662, 0.5338],\n",
       "        [0.5087, 0.4913],\n",
       "        [0.6458, 0.3542]], device='cuda:0', grad_fn=<SoftmaxBackward>)"
      ]
     },
     "execution_count": 150,
     "metadata": {},
     "output_type": "execute_result"
    }
   ],
   "source": [
    "kcnn(torch.cuda.LongTensor(dummy_input))"
   ]
  },
  {
   "cell_type": "markdown",
   "metadata": {},
   "source": [
    "## Training"
   ]
  },
  {
   "cell_type": "code",
   "execution_count": 151,
   "metadata": {},
   "outputs": [],
   "source": [
    "import matplotlib.pyplot as plt"
   ]
  },
  {
   "cell_type": "code",
   "execution_count": 152,
   "metadata": {},
   "outputs": [],
   "source": [
    "data = [(item, 1.) for item in pos_data]\n",
    "data.extend([(item, 0.) for item in neg_data])"
   ]
  },
  {
   "cell_type": "code",
   "execution_count": 153,
   "metadata": {},
   "outputs": [],
   "source": [
    "random.shuffle(data)"
   ]
  },
  {
   "cell_type": "code",
   "execution_count": 154,
   "metadata": {},
   "outputs": [],
   "source": [
    "train_data = data[0: int(len(data) * 0.9)]\n",
    "test_data = data[len(train_data) - 1:]"
   ]
  },
  {
   "cell_type": "code",
   "execution_count": 155,
   "metadata": {},
   "outputs": [],
   "source": [
    "def pad_line(line, max_len=50):\n",
    "    return line[0:max_len] + [0. for _ in range(0, max_len - len(line))]"
   ]
  },
  {
   "cell_type": "code",
   "execution_count": 188,
   "metadata": {},
   "outputs": [
    {
     "data": {
      "text/plain": [
       "KimCNN(\n",
       "  (embeddings): Embedding(400001, 100)\n",
       "  (convolutions): ModuleList(\n",
       "    (0): Conv2d(1, 50, kernel_size=(3, 100), stride=(1, 1))\n",
       "    (1): Conv2d(1, 50, kernel_size=(4, 100), stride=(1, 1))\n",
       "    (2): Conv2d(1, 50, kernel_size=(5, 100), stride=(1, 1))\n",
       "  )\n",
       "  (fully_connected_layer): Linear(in_features=150, out_features=2, bias=True)\n",
       ")"
      ]
     },
     "execution_count": 188,
     "metadata": {},
     "output_type": "execute_result"
    }
   ],
   "source": [
    "model = KimCNN(embedding_weights=torch.cuda.FloatTensor(glove.vectors.reshape(-1, glove.dim)))\n",
    "model.cuda()"
   ]
  },
  {
   "cell_type": "code",
   "execution_count": 189,
   "metadata": {},
   "outputs": [],
   "source": [
    "def train(model, train_data, batch_size=50):\n",
    "    loss_func = nn.NLLLoss()\n",
    "    optimizer = optim.Adagrad(model.parameters())\n",
    "    losses = []\n",
    "    for i in range(0, len(train_data), batch_size):\n",
    "        model.zero_grad()\n",
    "        \n",
    "        batch = train_data[i:i+batch_size]\n",
    "        input_ = torch.cuda.LongTensor([pad_line(item) for item, label in batch]).unsqueeze(1)\n",
    "        labels = torch.cuda.LongTensor([label for item, label in batch])\n",
    "        pred = model(input_, dropout=True)\n",
    "        \n",
    "        loss = loss_func(pred, labels)\n",
    "        loss.backward()\n",
    "        optimizer.step()\n",
    "        losses.append(loss.data)\n",
    "    return losses"
   ]
  },
  {
   "cell_type": "code",
   "execution_count": 190,
   "metadata": {},
   "outputs": [],
   "source": [
    "def test(model, test_data):\n",
    "    with torch.no_grad():\n",
    "        input_ = torch.cuda.LongTensor([pad_line(item) for item, label in test_data]).unsqueeze(1)\n",
    "        labels = torch.cuda.LongTensor([label for item, label in test_data])\n",
    "        pred_labels = torch.max(model(input_).data, dim=-1)[1]\n",
    "        \n",
    "        i = 0\n",
    "        for pred, actual in zip(pred_labels, labels):\n",
    "            if pred == actual:\n",
    "                 i += 1\n",
    "        return (i/len(labels))"
   ]
  },
  {
   "cell_type": "code",
   "execution_count": 191,
   "metadata": {},
   "outputs": [],
   "source": [
    "losses = []"
   ]
  },
  {
   "cell_type": "code",
   "execution_count": 192,
   "metadata": {},
   "outputs": [
    {
     "name": "stdout",
     "output_type": "stream",
     "text": [
      "0.6142322097378277\n",
      "0.7668539325842697\n",
      "0.7911985018726592\n",
      "0.7968164794007491\n",
      "0.799625468164794\n",
      "0.7921348314606742\n",
      "0.7940074906367042\n",
      "0.7911985018726592\n",
      "0.7893258426966292\n",
      "0.7921348314606742\n",
      "0.7865168539325843\n",
      "0.7902621722846442\n",
      "0.7865168539325843\n",
      "0.7865168539325843\n",
      "0.7846441947565543\n",
      "0.7602996254681648\n",
      "0.7780898876404494\n",
      "0.7546816479400749\n",
      "0.7762172284644194\n",
      "0.7752808988764045\n",
      "0.7799625468164794\n",
      "0.7771535580524345\n",
      "0.75187265917603\n",
      "0.7602996254681648\n",
      "0.7715355805243446\n",
      "0.7771535580524345\n",
      "0.7762172284644194\n",
      "0.7509363295880149\n",
      "0.7584269662921348\n",
      "0.7631086142322098\n"
     ]
    },
    {
     "data": {
      "image/png": "[encoded data removed]",
      "text/plain": [
       "<Figure size 432x288 with 1 Axes>"
      ]
     },
     "metadata": {
      "needs_background": "light"
     },
     "output_type": "display_data"
    }
   ],
   "source": [
    "for i in range(30):\n",
    "    losses.extend(train(model, train_data))\n",
    "    plt.plot(losses)\n",
    "    print(test(model, test_data))"
   ]
  },
  {
   "cell_type": "code",
   "execution_count": null,
   "metadata": {},
   "outputs": [],
   "source": []
  }
 ],
 "metadata": {
  "kernelspec": {
   "display_name": "refresh",
   "language": "python",
   "name": "refresh"
  },
  "language_info": {
   "codemirror_mode": {
    "name": "ipython",
    "version": 3
   },
   "file_extension": ".py",
   "mimetype": "text/x-python",
   "name": "python",
   "nbconvert_exporter": "python",
   "pygments_lexer": "ipython3",
   "version": "3.5.2"
  }
 },
 "nbformat": 4,
 "nbformat_minor": 2
}
